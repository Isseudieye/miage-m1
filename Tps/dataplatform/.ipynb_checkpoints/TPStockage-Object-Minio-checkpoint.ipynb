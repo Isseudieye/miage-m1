{
 "cells": [
  {
   "cell_type": "markdown",
   "id": "8b280c67-0301-4a1a-bb8f-4d7956b982d6",
   "metadata": {},
   "source": [
    "#### Le but de ce TP est d'explorer les fonctionalités d'un stockage objet avec [MINIO](https://min.io/), une solution open source rapide et compatible S3.  \n",
    "\n",
    "#### Nous y verrons comment configurer un serveur MinIO, gérer des buckets et interagir avec les objets"
   ]
  },
  {
   "cell_type": "markdown",
   "id": "e5cf6d63-22fd-4007-9546-b79459ae5f89",
   "metadata": {},
   "source": [
    "#### Vous pouvez retrouver la documentation [ici](https://min.io/docs/minio/linux/developers/python/API.html#) "
   ]
  },
  {
   "cell_type": "markdown",
   "id": "7a0f2869-905d-4654-9bc5-7b222f008a32",
   "metadata": {},
   "source": [
    "Pré-Requis\n",
    "\n",
    "0 - Préparer votre environnement comme pour la séance précédente\n",
    "\n",
    "1 - git checkout feat-minio && git checkout -b \"you-branche-name\"\n",
    "\n",
    "2 - docker-compose up (une fois que les conteneurs sont up aller sur http://localhost:9001/): Explorez l'ui, les fonctionalités\n",
    "\n",
    "3 - jupyter-notebook (puis ouvrir ce TP)"
   ]
  },
  {
   "cell_type": "code",
   "execution_count": null,
   "id": "2f021102-9efc-441a-b33e-8ab2adfa2f9b",
   "metadata": {},
   "outputs": [],
   "source": []
  },
  {
   "cell_type": "code",
   "execution_count": 6,
   "id": "ee27b7fc-be2b-4254-880f-f58b9d9a26f5",
   "metadata": {},
   "outputs": [],
   "source": [
    "from minio import Minio\n",
    "import pandas as pd\n",
    "import s3fs"
   ]
  },
  {
   "cell_type": "code",
   "execution_count": 7,
   "id": "82d3c15d-bd2f-4117-a703-a681ec563651",
   "metadata": {},
   "outputs": [],
   "source": [
    "MINIO_ACCESS_KEY = \"miniouser\"\n",
    "MINIO_SECRET_KEY = \"miniopassword\"\n",
    "MINIO_ENDPOINT_URL = \"http://localhost:9000\"\n",
    "BUCKET_NAME = \"dataplatform\""
   ]
  },
  {
   "cell_type": "code",
   "execution_count": 25,
   "id": "1c606cbd-fe16-40ce-9434-67a3457639e0",
   "metadata": {},
   "outputs": [],
   "source": [
    "storage_options={\n",
    "   'key': MINIO_ACCESS_KEY,\n",
    "   'secret': MINIO_SECRET_KEY,\n",
    "   'endpoint_url': MINIO_ENDPOINT_URL,\n",
    "}"
   ]
  },
  {
   "cell_type": "markdown",
   "id": "b0b48736-0a40-4f38-8dfc-69d833d61f65",
   "metadata": {},
   "source": [
    "Initialisons le client minio"
   ]
  },
  {
   "cell_type": "code",
   "execution_count": 10,
   "id": "2179ee10-9ed3-4f39-995f-ee5123a6aa8f",
   "metadata": {},
   "outputs": [],
   "source": [
    "client = Minio(\n",
    "    \"localhost:9000\",\n",
    "    access_key=MINIO_ACCESS_KEY,\n",
    "    secret_key=MINIO_SECRET_KEY,\n",
    "    secure=False  # Set to True if you're using HTTPS\n",
    ")"
   ]
  },
  {
   "cell_type": "markdown",
   "id": "3f16085e-1bc0-43e7-bac0-237d0e4e96ad",
   "metadata": {},
   "source": [
    "Buckets: Les buckets, unités fondamentales du stockage objet dans MinIO, permettent d'organiser et de gérer efficacement les données. On peut associer plusieurs configurations à un bucket. \\\n",
    "**Droits d'accès** : Vous pouvez définir qui a accès au bucket (public ou privé) et spécifier des permissions détaillées (lecture, écriture, etc.). \\\n",
    "**Versioning** : Cette option permet de conserver différentes versions des objets, utile pour suivre les modifications ou restaurer des données supprimées. \\\n",
    "**Politique de cycle de vie** : Elle automatise la gestion des objets en définissant des règles pour leur archivage ou leur suppression après une certaine durée. \\\n",
    "**Chiffrement** : Les données du bucket peuvent être protégées par un chiffrement pour garantir leur sécurité. \\\n",
    "**Notifications** : Configurez des événements pour envoyer des alertes lorsque des actions spécifiques (ajout, suppression) se produisent dans le bucket. \\\n",
    "**Replication** : Permet de copier automatiquement les données du bucket vers un autre, souvent dans un but de sauvegarde ou de haute disponibilité."
   ]
  },
  {
   "cell_type": "markdown",
   "id": "ac3b685d-de83-495f-8f66-12b20f5fc64a",
   "metadata": {},
   "source": [
    "Créer un bucket "
   ]
  },
  {
   "cell_type": "code",
   "execution_count": 13,
   "id": "20351ceb-d18c-4859-ac0b-aa0439bf6c5d",
   "metadata": {},
   "outputs": [],
   "source": [
    "# TODO"
   ]
  },
  {
   "cell_type": "markdown",
   "id": "8a5d40c0-f05f-48df-b492-f3cff817566b",
   "metadata": {},
   "source": [
    "Lister les buckets"
   ]
  },
  {
   "cell_type": "code",
   "execution_count": 14,
   "id": "86f33bb9-ae0b-4a47-921f-f697b7cbf836",
   "metadata": {},
   "outputs": [],
   "source": [
    "# TODO"
   ]
  },
  {
   "cell_type": "markdown",
   "id": "db73faae-d068-45c7-a60c-f74bf8eeefc2",
   "metadata": {},
   "source": [
    "Upload un fichier dans un bucket avec la méthode *fput_object*"
   ]
  },
  {
   "cell_type": "code",
   "execution_count": 16,
   "id": "a5b921d2-65e0-4547-b1c0-777ce2ab45a3",
   "metadata": {},
   "outputs": [],
   "source": [
    "# TODO"
   ]
  },
  {
   "cell_type": "markdown",
   "id": "33ac0a63-de40-4177-9524-01b391c23ba7",
   "metadata": {},
   "source": [
    "Supprimer ce fichier"
   ]
  },
  {
   "cell_type": "code",
   "execution_count": 18,
   "id": "800aab3c-390a-4c12-9138-0cd6a2382370",
   "metadata": {},
   "outputs": [],
   "source": [
    "# TODO"
   ]
  },
  {
   "cell_type": "markdown",
   "id": "fcd509d7-0d9f-459c-a9e6-2b55eb828f33",
   "metadata": {},
   "source": [
    "Supprimer le bucket que vous avez créer"
   ]
  },
  {
   "cell_type": "code",
   "execution_count": 20,
   "id": "f465ec2f-8d9b-4195-a394-ae2f365211d0",
   "metadata": {},
   "outputs": [],
   "source": [
    "# TODO"
   ]
  },
  {
   "cell_type": "markdown",
   "id": "1d23242e-48d9-45cb-99b7-56849a2c9211",
   "metadata": {},
   "source": [
    "On va à présent reprendre notre exo précédent et réécrire les données dans notre stockage objet "
   ]
  },
  {
   "cell_type": "markdown",
   "id": "a177a924-e9de-4657-8355-bc5192cba9a4",
   "metadata": {},
   "source": [
    "Créer un bucket nommé *data dataplatform*"
   ]
  },
  {
   "cell_type": "code",
   "execution_count": 22,
   "id": "a902f71a-b342-4084-b517-5bef44889945",
   "metadata": {},
   "outputs": [],
   "source": [
    "# TO DO"
   ]
  },
  {
   "cell_type": "markdown",
   "id": "4c4529cd-11c0-4bd5-9143-0ca1aded5eb9",
   "metadata": {},
   "source": [
    "Lire les données sources et réécrivez le dataframe dans minio dans le bucket que vous venez de créer"
   ]
  },
  {
   "cell_type": "code",
   "execution_count": 26,
   "id": "497b27db-5462-4cee-97ef-6e852bae6e51",
   "metadata": {},
   "outputs": [],
   "source": [
    "# TODO"
   ]
  },
  {
   "cell_type": "code",
   "execution_count": null,
   "id": "0474a58e-e36d-4b0b-9d91-79c423bd2b7c",
   "metadata": {},
   "outputs": [],
   "source": []
  }
 ],
 "metadata": {
  "kernelspec": {
   "display_name": "Python 3 (ipykernel)",
   "language": "python",
   "name": "python3"
  },
  "language_info": {
   "codemirror_mode": {
    "name": "ipython",
    "version": 3
   },
   "file_extension": ".py",
   "mimetype": "text/x-python",
   "name": "python",
   "nbconvert_exporter": "python",
   "pygments_lexer": "ipython3",
   "version": "3.12.5"
  }
 },
 "nbformat": 4,
 "nbformat_minor": 5
}
