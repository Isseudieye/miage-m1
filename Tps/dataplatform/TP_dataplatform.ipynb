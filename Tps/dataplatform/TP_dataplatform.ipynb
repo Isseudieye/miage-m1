{
 "cells": [
  {
   "cell_type": "markdown",
   "id": "7dc133e1-c94f-441d-adf0-ca5f43235da4",
   "metadata": {},
   "source": [
    "### PARTIE I\n",
    "Dans cette première partie du TP, on va se connecter sur notre source de données qui est ici une base de données pour récupérer les données.\n",
    "Ensuite on écrira ces données sur un stockage sur lequel on a plus de contrôle en respectant les bonnes pratiques sur le stockage des données (format, partitionnement). \n",
    "Et enfin on fera un traitement simple sur ces données histoires d'en extraire des insights."
   ]
  },
  {
   "cell_type": "code",
   "execution_count": 4,
   "id": "ebf3a7d3-7a0b-49a3-b1b9-560c9a6fe7ef",
   "metadata": {},
   "outputs": [],
   "source": [
    "import psycopg2\n",
    "import pandas as pd\n",
    "from datetime import datetime\n"
   ]
  },
  {
   "cell_type": "code",
   "execution_count": null,
   "id": "1fd2f125-4255-43a3-a29b-241e2138d557",
   "metadata": {},
   "outputs": [],
   "source": [
    "db_params = {\n",
    "    'dbname': 'dataplatform',\n",
    "    'user': 'postgres',\n",
    "    'password': 'postgrespassword',\n",
    "    'host': 'localhost',\n",
    "    'port': 5432\n",
    "}\n",
    "table_name = \"premier_league_2021\""
   ]
  },
  {
   "cell_type": "code",
   "execution_count": null,
   "id": "00d684bf-5ddc-4471-927b-025a650f7c9f",
   "metadata": {},
   "outputs": [],
   "source": [
    "def get_conn():\n",
    "    conn = psycopg2.connect(**db_params)\n",
    "    return conn"
   ]
  },
  {
   "cell_type": "code",
   "execution_count": null,
   "id": "19505ae4-2bea-439a-9fa9-d8817c01057f",
   "metadata": {},
   "outputs": [],
   "source": [
    "conn = get_conn()"
   ]
  },
  {
   "cell_type": "code",
   "execution_count": null,
   "id": "01a15670-57d5-4e1f-bf33-4b7d2ad3f117",
   "metadata": {},
   "outputs": [],
   "source": [
    "query = f\"\""
   ]
  },
  {
   "cell_type": "markdown",
   "id": "86c12529-0170-4e84-853e-cf8584f62a74",
   "metadata": {},
   "source": [
    "#### Collecter la données depuis la source (depuis la db postgres)"
   ]
  },
  {
   "cell_type": "code",
   "execution_count": 2,
   "id": "48eae48c-1da1-40fa-98ee-7f553fc333c0",
   "metadata": {},
   "outputs": [],
   "source": [
    "#TODO"
   ]
  },
  {
   "cell_type": "code",
   "execution_count": null,
   "id": "64120ac3-cc92-457f-aae8-d27716cd90f1",
   "metadata": {},
   "outputs": [],
   "source": []
  },
  {
   "cell_type": "markdown",
   "id": "ad828de8-67b1-45b0-9cd8-7c41d8d1d71b",
   "metadata": {},
   "source": [
    "#### Afficher les info globales sur ces données"
   ]
  },
  {
   "cell_type": "code",
   "execution_count": null,
   "id": "4fd479d4-1a49-463b-a780-13daddf1b7eb",
   "metadata": {},
   "outputs": [],
   "source": [
    "#TODO"
   ]
  },
  {
   "cell_type": "markdown",
   "id": "93b255f1-827e-4134-a171-296df70de909",
   "metadata": {},
   "source": [
    "#### [Lien vers la source de données](https://datahub.io/core/english-premier-league)"
   ]
  },
  {
   "cell_type": "markdown",
   "id": "7b6d012a-3a10-4d0b-8ce9-a8d237a1b42a",
   "metadata": {},
   "source": [
    "##### Après avoir lu les données on va à présent les écrire ”chez nous” en applicant les bonne pratiques vu en cours"
   ]
  },
  {
   "cell_type": "code",
   "execution_count": 7,
   "id": "5564ce3b-19a1-48c4-a29d-3bccef14b140",
   "metadata": {},
   "outputs": [],
   "source": [
    "# TO DO"
   ]
  },
  {
   "cell_type": "markdown",
   "id": "ec3e055c-6130-424e-a768-63c743eb2ca7",
   "metadata": {},
   "source": [
    "##### On peut relire ces données cette fois depuis notre propre stockage"
   ]
  },
  {
   "cell_type": "code",
   "execution_count": 9,
   "id": "e8a03415-b2f7-472e-95f4-d4e4a2b66697",
   "metadata": {},
   "outputs": [],
   "source": [
    "# TO DO"
   ]
  },
  {
   "cell_type": "markdown",
   "id": "800baed2-dd21-4a54-910f-bce62d23a29d",
   "metadata": {},
   "source": [
    "##### On va à présent processer ces données: Le but étant de définir les trois premiers du championnat anglais pour la saison 2020-2021 avec ces données.\n",
    "\n",
    "##### L'idée est de refaire le classement de la PL 2021 en retrouvant les équipes en haut du tableau\n",
    "\n",
    "##### Idée: calculer d'abord les points des équipes: pd apply groupby "
   ]
  },
  {
   "cell_type": "code",
   "execution_count": 10,
   "id": "91a84b21-dfcd-4297-8ad4-adadf0c7cabd",
   "metadata": {},
   "outputs": [],
   "source": [
    "# TO DO"
   ]
  },
  {
   "cell_type": "code",
   "execution_count": null,
   "id": "6b3f5d68-845f-4d74-a6e6-23ddbb2f15f4",
   "metadata": {},
   "outputs": [],
   "source": []
  },
  {
   "cell_type": "code",
   "execution_count": null,
   "id": "432cda05-d58d-4b4b-a3c5-be923d155534",
   "metadata": {},
   "outputs": [],
   "source": []
  },
  {
   "cell_type": "code",
   "execution_count": null,
   "id": "ef09a452-8a53-4973-9df5-cf80bf9af42a",
   "metadata": {},
   "outputs": [],
   "source": []
  },
  {
   "cell_type": "code",
   "execution_count": null,
   "id": "5e2b06da-058f-40ee-85ea-4f7529081041",
   "metadata": {},
   "outputs": [],
   "source": []
  },
  {
   "cell_type": "markdown",
   "id": "324040db-3f08-4687-b160-caa913f4303f",
   "metadata": {},
   "source": [
    "### PARTIE II"
   ]
  },
  {
   "cell_type": "markdown",
   "id": "e088723c-454d-4215-80a5-67b3422e4ee6",
   "metadata": {},
   "source": [
    "Dans la partie précédente les écritures se faisait en local, ce qui n'est pas très adapté, on va dans cette partie explorer les fonctionalités d'un stockage objet avec [MINIO](https://min.io/), une solution open source rapide et compatible S3 (système de stockage du cloud aws).  \n",
    "\n",
    "Nous y verrons comment configurer un serveur MinIO, gérer des buckets et interagir avec les objets"
   ]
  },
  {
   "cell_type": "markdown",
   "id": "871fc8e7-bdee-4e02-a44a-a265ee09d367",
   "metadata": {},
   "source": [
    "#### Vous pouvez retrouver la documentation [ici](https://min.io/docs/minio/linux/developers/python/API.html#) "
   ]
  },
  {
   "cell_type": "code",
   "execution_count": 12,
   "id": "c596fa89-71d8-496e-b219-bb6d92a53cf9",
   "metadata": {},
   "outputs": [],
   "source": [
    "from minio import Minio\n",
    "import pandas as pd\n",
    "import s3fs"
   ]
  },
  {
   "cell_type": "code",
   "execution_count": 13,
   "id": "7939c1b3-a41c-4c6d-a9ba-639b066e09b1",
   "metadata": {},
   "outputs": [],
   "source": [
    "MINIO_ACCESS_KEY = \"miniouser\"\n",
    "MINIO_SECRET_KEY = \"miniopassword\"\n",
    "MINIO_ENDPOINT_URL = \"http://localhost:9000\"\n",
    "BUCKET_NAME = \"dataplatform\""
   ]
  },
  {
   "cell_type": "code",
   "execution_count": 14,
   "id": "7c36ad88-49ab-42b2-a954-902c454a4e81",
   "metadata": {},
   "outputs": [],
   "source": [
    "storage_options={\n",
    "   'key': MINIO_ACCESS_KEY,\n",
    "   'secret': MINIO_SECRET_KEY,\n",
    "   'endpoint_url': MINIO_ENDPOINT_URL,\n",
    "}"
   ]
  },
  {
   "cell_type": "code",
   "execution_count": 15,
   "id": "45f5d2bd-5ab6-4114-8539-491dde1854af",
   "metadata": {},
   "outputs": [],
   "source": [
    "client = Minio(\n",
    "    \"localhost:9000\",\n",
    "    access_key=MINIO_ACCESS_KEY,\n",
    "    secret_key=MINIO_SECRET_KEY,\n",
    "    secure=False  \n",
    ")"
   ]
  },
  {
   "cell_type": "markdown",
   "id": "335d7a78-0344-43f4-b125-cab3da8cb805",
   "metadata": {},
   "source": [
    "### Notions\n",
    "\n",
    "**Buckets**: Les buckets, unités fondamentales du stockage objet dans MinIO, permettent d'organiser et de gérer efficacement les données. On peut associer plusieurs configurations à un bucket. \\\n",
    "**Droits d'accès** : Vous pouvez définir qui a accès au bucket (public ou privé) et spécifier des permissions détaillées (lecture, écriture, etc.). \\\n",
    "**Versioning** : Cette option permet de conserver différentes versions des objets, utile pour suivre les modifications ou restaurer des données supprimées. \\\n",
    "**Politique de cycle de vie** : Elle automatise la gestion des objets en définissant des règles pour leur archivage ou leur suppression après une certaine durée. \\\n",
    "**Chiffrement** : Les données du bucket peuvent être protégées par un chiffrement pour garantir leur sécurité. \\\n",
    "**Notifications** : Configurez des événements pour envoyer des alertes lorsque des actions spécifiques (ajout, suppression) se produisent dans le bucket. \\\n",
    "**Replication** : Permet de copier automatiquement les données du bucket vers un autre, souvent dans un but de sauvegarde ou de haute disponibilité."
   ]
  },
  {
   "cell_type": "markdown",
   "id": "bdf627c2-67da-46ee-b65d-890984552b70",
   "metadata": {},
   "source": [
    "Créer un bucket "
   ]
  },
  {
   "cell_type": "code",
   "execution_count": null,
   "id": "6202d16e-d558-4147-aea9-e8649615235e",
   "metadata": {},
   "outputs": [],
   "source": [
    "#TO DO"
   ]
  }
 ],
 "metadata": {
  "kernelspec": {
   "display_name": "Python 3 (ipykernel)",
   "language": "python",
   "name": "python3"
  },
  "language_info": {
   "codemirror_mode": {
    "name": "ipython",
    "version": 3
   },
   "file_extension": ".py",
   "mimetype": "text/x-python",
   "name": "python",
   "nbconvert_exporter": "python",
   "pygments_lexer": "ipython3",
   "version": "3.11.9"
  }
 },
 "nbformat": 4,
 "nbformat_minor": 5
}
