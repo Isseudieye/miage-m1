{
 "cells": [
  {
   "cell_type": "code",
   "execution_count": 9,
   "id": "15550fd4-5233-4626-96cd-9046e7660da8",
   "metadata": {},
   "outputs": [],
   "source": [
    "import psycopg2\n",
    "import pandas as pd"
   ]
  },
  {
   "cell_type": "code",
   "execution_count": 4,
   "id": "5306d09e-af21-49c7-a624-4eaf32ec8345",
   "metadata": {},
   "outputs": [],
   "source": [
    "db_params = {\n",
    "    'dbname': 'dataplatform',\n",
    "    'user': 'postgres',\n",
    "    'password': 'postgrespassword',\n",
    "    'host': 'localhost',\n",
    "    'port': 5432\n",
    "}\n",
    "table_name = \"premier_league_2021\""
   ]
  },
  {
   "cell_type": "code",
   "execution_count": 5,
   "id": "5050577f-19e6-493a-97b1-58c0eb662265",
   "metadata": {},
   "outputs": [],
   "source": [
    "def get_conn():\n",
    "    conn = psycopg2.connect(**db_params)\n",
    "    return conn"
   ]
  },
  {
   "cell_type": "code",
   "execution_count": 12,
   "id": "be5a9bb5-6a2f-4ffe-986f-e38fdc8180b0",
   "metadata": {},
   "outputs": [],
   "source": [
    "conn = get_conn()"
   ]
  },
  {
   "cell_type": "code",
   "execution_count": 1,
   "id": "c42bec7b-41dc-4399-808e-e831ad772107",
   "metadata": {},
   "outputs": [],
   "source": [
    "query = f\"\""
   ]
  },
  {
   "cell_type": "markdown",
   "id": "0b400947-5274-46c9-a80e-370bcd6c2bf4",
   "metadata": {},
   "source": [
    "#### Collecter la données depuis la source"
   ]
  },
  {
   "cell_type": "code",
   "execution_count": 16,
   "id": "00d1951f-545e-42df-84ff-1d79a290160b",
   "metadata": {},
   "outputs": [],
   "source": []
  },
  {
   "cell_type": "markdown",
   "id": "1b08c267-abea-498c-b9fc-21217be6c34b",
   "metadata": {},
   "source": [
    "#### Afficher les info globales sur ces données"
   ]
  },
  {
   "cell_type": "code",
   "execution_count": null,
   "id": "e2ec99fb-13bc-4b1d-978e-56791b58e3cc",
   "metadata": {},
   "outputs": [],
   "source": []
  },
  {
   "cell_type": "markdown",
   "id": "37c40625-38a2-4256-b3e4-cd6e8d75ccdf",
   "metadata": {},
   "source": [
    "#### [Lien vers la source de données](https://datahub.io/core/english-premier-league)"
   ]
  },
  {
   "cell_type": "markdown",
   "id": "23828da0-ea44-4904-9a9d-f1877d2d761f",
   "metadata": {},
   "source": [
    "##### On va à présent processer ces données: Le but étant de définir les trois premiers du championnat anglais pour la saison 2020-2021 avec ces données"
   ]
  },
  {
   "cell_type": "markdown",
   "id": "70f04e7c-9f9a-4877-b472-6a89b1249cf4",
   "metadata": {},
   "source": [
    "#### On va d'abord sauvegarder les données brutes pour ne pas avoir à les charger à chaque fois (Utiliser les bonnes pratiques vu en cours)"
   ]
  },
  {
   "cell_type": "code",
   "execution_count": 2,
   "id": "4630c15c-dc98-477a-9782-383042f8ade5",
   "metadata": {},
   "outputs": [],
   "source": [
    "import pandas as pd\n",
    "from datetime import datetime\n"
   ]
  },
  {
   "cell_type": "code",
   "execution_count": null,
   "id": "b7c6adfe-fbc8-4ec9-9e83-eff722057083",
   "metadata": {},
   "outputs": [],
   "source": [
    "#### ecrire la données"
   ]
  },
  {
   "cell_type": "code",
   "execution_count": 4,
   "id": "d4ed64e6-14c5-469f-b7a0-530f4c224553",
   "metadata": {},
   "outputs": [],
   "source": [
    "#TO DO \n"
   ]
  },
  {
   "cell_type": "code",
   "execution_count": null,
   "id": "30303a3e-63f0-4992-8fad-36010b66be68",
   "metadata": {},
   "outputs": [],
   "source": []
  },
  {
   "cell_type": "markdown",
   "id": "0a354d00-1ab4-4106-bcb1-5a185866eb85",
   "metadata": {},
   "source": [
    "#### On peut lire nos données à présent depuis notre stockage si on le souhaite \n"
   ]
  },
  {
   "cell_type": "markdown",
   "id": "7b2551e7-c508-45e1-88e5-afded1f9ec04",
   "metadata": {},
   "source": [
    "##### L'idée est de refaire le classement de la PL 2021 en retrouvant les équipes en haut du tableau"
   ]
  },
  {
   "cell_type": "markdown",
   "id": "4b5a7908-a11a-4cbe-a966-9c939516154a",
   "metadata": {},
   "source": [
    "##### Idée: calculer d'abord les points des équipes: pd apply groupby "
   ]
  },
  {
   "cell_type": "code",
   "execution_count": 6,
   "id": "a75df410-d2c4-4cff-b0f0-51f443a3c45e",
   "metadata": {},
   "outputs": [],
   "source": [
    "#TODO\n"
   ]
  },
  {
   "cell_type": "code",
   "execution_count": 62,
   "id": "ddf36722-eafd-4d0d-aa45-1e49c4ca01f5",
   "metadata": {},
   "outputs": [],
   "source": []
  },
  {
   "cell_type": "code",
   "execution_count": 63,
   "id": "88878215-601b-479a-b00a-854157a290c4",
   "metadata": {},
   "outputs": [],
   "source": []
  },
  {
   "cell_type": "code",
   "execution_count": 65,
   "id": "0568d602-6c5c-4d97-8c60-59d2d1468d4a",
   "metadata": {},
   "outputs": [],
   "source": []
  },
  {
   "cell_type": "code",
   "execution_count": null,
   "id": "867c9612-064d-4067-80b9-50fa2c00eee2",
   "metadata": {},
   "outputs": [],
   "source": []
  },
  {
   "cell_type": "code",
   "execution_count": null,
   "id": "7eb41302-6013-4ba0-8fa2-d8664ad496eb",
   "metadata": {},
   "outputs": [],
   "source": []
  }
 ],
 "metadata": {
  "kernelspec": {
   "display_name": "Python 3 (ipykernel)",
   "language": "python",
   "name": "python3"
  },
  "language_info": {
   "codemirror_mode": {
    "name": "ipython",
    "version": 3
   },
   "file_extension": ".py",
   "mimetype": "text/x-python",
   "name": "python",
   "nbconvert_exporter": "python",
   "pygments_lexer": "ipython3",
   "version": "3.12.5"
  }
 },
 "nbformat": 4,
 "nbformat_minor": 5
}
