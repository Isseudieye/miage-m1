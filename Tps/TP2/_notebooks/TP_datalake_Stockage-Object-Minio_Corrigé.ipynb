{
 "cells": [
  {
   "cell_type": "markdown",
   "id": "8b280c67-0301-4a1a-bb8f-4d7956b982d6",
   "metadata": {},
   "source": [
    "#### Le but de ce TP est d'explorer les fonctionalités d'un stockage objet avec [MINIO](https://min.io/), une solution open source rapide et compatible S3.  \n",
    "\n",
    "#### Nous y verrons comment configurer un serveur MinIO, gérer des buckets et interagir avec les objets"
   ]
  },
  {
   "cell_type": "markdown",
   "id": "e5cf6d63-22fd-4007-9546-b79459ae5f89",
   "metadata": {},
   "source": [
    "#### Vous pouvez retrouver la documentation [ici](https://min.io/docs/minio/linux/developers/python/API.html#) "
   ]
  },
  {
   "cell_type": "markdown",
   "id": "7a0f2869-905d-4654-9bc5-7b222f008a32",
   "metadata": {},
   "source": [
    "Pré-Requis\n",
    "\n",
    "0 - docker, docker-compose\n",
    "\n",
    "1 - git checkout main && git pull && git checkout -b \"you-branche-name\"\n",
    "\n",
    "2 - cd Tps/TP2\n",
    "\n",
    "3 - docker compose -f docker/docker-compose.yaml build \n",
    "\n",
    "4 - docker compose -f docker/docker-compose.yaml up\n",
    "\n",
    "5 - Aller sur l'ui de minio sur http://localhost:9001 (user: miniouser, password: miniopassword)\n",
    "\n",
    "6 - Aller sur jupyter sur http://localhost:8888 (puis ouvrir le tp puis commencer à travailler)"
   ]
  },
  {
   "cell_type": "markdown",
   "id": "e5728f6d-b241-414c-a0eb-a4f41748dedf",
   "metadata": {},
   "source": [
    "### On va explorer ensemble les fonctionnalités de minio (ou d'un stockage objet en général)"
   ]
  },
  {
   "cell_type": "markdown",
   "id": "3f16085e-1bc0-43e7-bac0-237d0e4e96ad",
   "metadata": {},
   "source": [
    "**Buckets**: Les buckets, unités fondamentales du stockage objet dans MinIO, permettent d'organiser et de gérer efficacement les données. On peut associer plusieurs configurations à un bucket. \\\n",
    "**Droits d'accès**: Vous pouvez définir qui a accès au bucket (public ou privé) et spécifier des permissions détaillées (lecture, écriture, etc.). \\\n",
    "**Versioning**: Cette option permet de conserver différentes versions des objets, utile pour suivre les modifications ou restaurer des données supprimées. \\\n",
    "**Politique de cycle de vie**: Elle automatise la gestion des objets en définissant des règles pour leur archivage ou leur suppression après une certaine durée. \\\n",
    "**Chiffrement**: Les données du bucket peuvent être protégées par un chiffrement pour garantir leur sécurité. \\\n",
    "**Notifications**: Configurez des événements pour envoyer des alertes lorsque des actions spécifiques (ajout, suppression) se produisent dans le bucket. \\\n",
    "**Replication**: Permet de copier automatiquement les données du bucket vers un autre, souvent dans un but de sauvegarde ou de haute disponibilité."
   ]
  },
  {
   "cell_type": "markdown",
   "id": "17189505-c3ac-4041-a5da-edca080bb5ee",
   "metadata": {},
   "source": [
    "Les imports"
   ]
  },
  {
   "cell_type": "code",
   "execution_count": 1,
   "id": "ee27b7fc-be2b-4254-880f-f58b9d9a26f5",
   "metadata": {},
   "outputs": [],
   "source": [
    "from minio import Minio\n",
    "import pandas as pd\n",
    "import s3fs"
   ]
  },
  {
   "cell_type": "code",
   "execution_count": 2,
   "id": "82d3c15d-bd2f-4117-a703-a681ec563651",
   "metadata": {},
   "outputs": [],
   "source": [
    "MINIO_ACCESS_KEY = \"miniouser\"\n",
    "MINIO_SECRET_KEY = \"miniopassword\"\n",
    "MINIO_ENDPOINT_URL = \"http://minio:9000\"\n",
    "BUCKET_NAME = \"dataplatform\""
   ]
  },
  {
   "cell_type": "code",
   "execution_count": 3,
   "id": "1c606cbd-fe16-40ce-9434-67a3457639e0",
   "metadata": {},
   "outputs": [],
   "source": [
    "storage_options={\n",
    "   'key': MINIO_ACCESS_KEY,\n",
    "   'secret': MINIO_SECRET_KEY,\n",
    "   'endpoint_url': MINIO_ENDPOINT_URL,\n",
    "}"
   ]
  },
  {
   "cell_type": "markdown",
   "id": "b0b48736-0a40-4f38-8dfc-69d833d61f65",
   "metadata": {},
   "source": [
    "Initialisons le client minio"
   ]
  },
  {
   "cell_type": "code",
   "execution_count": 4,
   "id": "2179ee10-9ed3-4f39-995f-ee5123a6aa8f",
   "metadata": {},
   "outputs": [],
   "source": [
    "client = Minio(\n",
    "    \"minio:9000\",\n",
    "    access_key=MINIO_ACCESS_KEY,\n",
    "    secret_key=MINIO_SECRET_KEY,\n",
    "    secure=False,  # Set to True if you're using HTTPS\n",
    "    region = \"eu-west-1\"\n",
    "    \n",
    ")"
   ]
  },
  {
   "cell_type": "markdown",
   "id": "ac3b685d-de83-495f-8f66-12b20f5fc64a",
   "metadata": {},
   "source": [
    "Créer un bucket \n",
    "\n",
    "Referer vous à la documentation https://min.io/docs/minio/linux/developers/python/API.html#"
   ]
  },
  {
   "cell_type": "code",
   "execution_count": 23,
   "id": "b9cdf8db-c923-48f6-93d6-3a150da4a685",
   "metadata": {},
   "outputs": [],
   "source": []
  },
  {
   "cell_type": "code",
   "execution_count": 20,
   "id": "20351ceb-d18c-4859-ac0b-aa0439bf6c5d",
   "metadata": {},
   "outputs": [],
   "source": [
    "bucket_name = \"sales-raw-data-v2\"\n",
    "\n",
    "def create_bucket(bucket_name: str):\n",
    "    if not  client.bucket_exists(bucket_name):\n",
    "        client.make_bucket(bucket_name)\n",
    "    else:\n",
    "        print(\"Hey! This bucket exists already\")\n"
   ]
  },
  {
   "cell_type": "code",
   "execution_count": 15,
   "id": "05df18f8-4883-46c5-af5f-e1a56638b0d5",
   "metadata": {},
   "outputs": [
    {
     "name": "stdout",
     "output_type": "stream",
     "text": [
      "TP_datalake_Stockage-Object-Minio.ipynb  raw_data.csv\n"
     ]
    }
   ],
   "source": [
    "!ls"
   ]
  },
  {
   "cell_type": "markdown",
   "id": "8a5d40c0-f05f-48df-b492-f3cff817566b",
   "metadata": {},
   "source": [
    "Lister les buckets"
   ]
  },
  {
   "cell_type": "code",
   "execution_count": 11,
   "id": "86f33bb9-ae0b-4a47-921f-f697b7cbf836",
   "metadata": {},
   "outputs": [
    {
     "name": "stdout",
     "output_type": "stream",
     "text": [
      "la liste des buckets: \n",
      "sales-raw-data\n",
      "sales-raw-data-v2\n"
     ]
    }
   ],
   "source": [
    "buckets = client.list_buckets()\n",
    "print(\"la liste des buckets: \")\n",
    "for bucket in buckets:\n",
    "    print(bucket.name)"
   ]
  },
  {
   "cell_type": "markdown",
   "id": "db73faae-d068-45c7-a60c-f74bf8eeefc2",
   "metadata": {},
   "source": [
    "Upload un fichier dans un bucket avec la méthode *fput_object*"
   ]
  },
  {
   "cell_type": "code",
   "execution_count": 14,
   "id": "4ef8fb65-b1f2-4eb8-9e44-5b85d40c47de",
   "metadata": {},
   "outputs": [],
   "source": [
    "! touch raw_data.csv"
   ]
  },
  {
   "cell_type": "code",
   "execution_count": 13,
   "id": "eba4d7d3-2c7c-4b43-81de-260554a011ca",
   "metadata": {},
   "outputs": [],
   "source": [
    "result = client.fput_object(\n",
    "    bucket_name, \"raw_data.csv\", \"raw_data.csv\"\n",
    ")"
   ]
  },
  {
   "cell_type": "markdown",
   "id": "33ac0a63-de40-4177-9524-01b391c23ba7",
   "metadata": {},
   "source": [
    "Supprimer ce fichier"
   ]
  },
  {
   "cell_type": "code",
   "execution_count": 16,
   "id": "800aab3c-390a-4c12-9138-0cd6a2382370",
   "metadata": {},
   "outputs": [],
   "source": [
    "client.remove_object(bucket_name,\"raw_data.csv\" )"
   ]
  },
  {
   "cell_type": "markdown",
   "id": "aaa00fe5-1b81-4806-8695-704d0fe33447",
   "metadata": {},
   "source": [
    "Vérifier que la suppression s'est bien passée "
   ]
  },
  {
   "cell_type": "code",
   "execution_count": 17,
   "id": "9b604c5e-704c-4951-9067-4b794201b6a3",
   "metadata": {},
   "outputs": [],
   "source": [
    "objects = client.list_objects(bucket_name)\n",
    "for obj in objects:\n",
    "    print(obj)"
   ]
  },
  {
   "cell_type": "markdown",
   "id": "fcd509d7-0d9f-459c-a9e6-2b55eb828f33",
   "metadata": {},
   "source": [
    "Supprimer le bucket que vous avez créer"
   ]
  },
  {
   "cell_type": "code",
   "execution_count": 19,
   "id": "f465ec2f-8d9b-4195-a394-ae2f365211d0",
   "metadata": {},
   "outputs": [],
   "source": [
    "client.remove_bucket(\"sales-raw-data\")"
   ]
  },
  {
   "cell_type": "markdown",
   "id": "1d23242e-48d9-45cb-99b7-56849a2c9211",
   "metadata": {},
   "source": [
    "On va à présent reprendre faire un peu de data processing "
   ]
  },
  {
   "cell_type": "markdown",
   "id": "a177a924-e9de-4657-8355-bc5192cba9a4",
   "metadata": {},
   "source": [
    "Créer un bucket nommé: *dataplatform*"
   ]
  },
  {
   "cell_type": "code",
   "execution_count": 21,
   "id": "a902f71a-b342-4084-b517-5bef44889945",
   "metadata": {},
   "outputs": [],
   "source": [
    "create_bucket(\"dataplatform\")"
   ]
  },
  {
   "cell_type": "markdown",
   "id": "4c4529cd-11c0-4bd5-9143-0ca1aded5eb9",
   "metadata": {},
   "source": [
    "Lire les données sources et réécrivez le dataframe dans minio dans le bucket que vous venez de créer"
   ]
  },
  {
   "cell_type": "code",
   "execution_count": 22,
   "id": "497b27db-5462-4cee-97ef-6e852bae6e51",
   "metadata": {},
   "outputs": [],
   "source": [
    "import psycopg2\n",
    "import pandas as pd"
   ]
  },
  {
   "cell_type": "code",
   "execution_count": 23,
   "id": "0474a58e-e36d-4b0b-9d91-79c423bd2b7c",
   "metadata": {},
   "outputs": [],
   "source": [
    "db_params = {\n",
    "    'dbname': 'dataplatform',\n",
    "    'user': 'postgres',\n",
    "    'password': 'postgrespassword',\n",
    "    'host': 'postgres-db',\n",
    "    'port': 5432\n",
    "}\n",
    "table_name = \"stock_data\""
   ]
  },
  {
   "cell_type": "code",
   "execution_count": 24,
   "id": "f950eafd-7125-4b02-abdf-b52641ea6252",
   "metadata": {},
   "outputs": [],
   "source": [
    "def get_conn():\n",
    "    conn = psycopg2.connect(**db_params)\n",
    "    return conn"
   ]
  },
  {
   "cell_type": "code",
   "execution_count": 25,
   "id": "26295af4-e3e3-4a6a-923b-43d9d6e12983",
   "metadata": {},
   "outputs": [],
   "source": [
    "conn = get_conn()"
   ]
  },
  {
   "cell_type": "markdown",
   "id": "16c47546-e75c-4d45-8d25-d96696d62b30",
   "metadata": {},
   "source": [
    "Lire les données depuis la table postgres"
   ]
  },
  {
   "cell_type": "code",
   "execution_count": 26,
   "id": "e9cbc4ac-9da6-4425-b9de-7008c3719ea5",
   "metadata": {},
   "outputs": [
    {
     "name": "stderr",
     "output_type": "stream",
     "text": [
      "/tmp/ipykernel_20/4003201557.py:2: UserWarning: pandas only supports SQLAlchemy connectable (engine/connection) or database string URI or sqlite3 DBAPI2 connection. Other DBAPI2 objects are not tested. Please consider using SQLAlchemy.\n",
      "  raw_df = pd.read_sql(query, conn)\n"
     ]
    }
   ],
   "source": [
    "query = f\"SELECT * FROM {table_name}\"\n",
    "raw_df = pd.read_sql(query, conn)"
   ]
  },
  {
   "cell_type": "code",
   "execution_count": 32,
   "id": "6a9fbc43-393b-4050-b388-fdf9c5aa0e3f",
   "metadata": {},
   "outputs": [
    {
     "ename": "AttributeError",
     "evalue": "'Series' object has no attribute 'year'",
     "output_type": "error",
     "traceback": [
      "\u001b[31m---------------------------------------------------------------------------\u001b[39m",
      "\u001b[31mAttributeError\u001b[39m                            Traceback (most recent call last)",
      "\u001b[32m/tmp/ipykernel_20/89533820.py\u001b[39m in \u001b[36m?\u001b[39m\u001b[34m()\u001b[39m\n\u001b[32m----> \u001b[39m\u001b[32m1\u001b[39m raw_df.date.year\n",
      "\u001b[32m/usr/local/lib/python3.13/site-packages/pandas/core/generic.py\u001b[39m in \u001b[36m?\u001b[39m\u001b[34m(self, name)\u001b[39m\n\u001b[32m   6314\u001b[39m             \u001b[38;5;28;01mand\u001b[39;00m name \u001b[38;5;28;01mnot\u001b[39;00m \u001b[38;5;28;01min\u001b[39;00m self._accessors\n\u001b[32m   6315\u001b[39m             \u001b[38;5;28;01mand\u001b[39;00m self._info_axis._can_hold_identifiers_and_holds_name(name)\n\u001b[32m   6316\u001b[39m         ):\n\u001b[32m   6317\u001b[39m             \u001b[38;5;28;01mreturn\u001b[39;00m self[name]\n\u001b[32m-> \u001b[39m\u001b[32m6318\u001b[39m         \u001b[38;5;28;01mreturn\u001b[39;00m object.__getattribute__(self, name)\n",
      "\u001b[31mAttributeError\u001b[39m: 'Series' object has no attribute 'year'"
     ]
    }
   ],
   "source": []
  },
  {
   "cell_type": "code",
   "execution_count": 29,
   "id": "b38804ab-edb7-4d99-bf37-4d901d656a24",
   "metadata": {},
   "outputs": [
    {
     "name": "stdout",
     "output_type": "stream",
     "text": [
      "<class 'pandas.core.frame.DataFrame'>\n",
      "RangeIndex: 619040 entries, 0 to 619039\n",
      "Data columns (total 7 columns):\n",
      " #   Column  Non-Null Count   Dtype  \n",
      "---  ------  --------------   -----  \n",
      " 0   date    619040 non-null  object \n",
      " 1   open    619029 non-null  float64\n",
      " 2   high    619032 non-null  float64\n",
      " 3   low     619032 non-null  float64\n",
      " 4   close   619040 non-null  float64\n",
      " 5   volume  619040 non-null  int64  \n",
      " 6   name    619040 non-null  object \n",
      "dtypes: float64(4), int64(1), object(2)\n",
      "memory usage: 33.1+ MB\n"
     ]
    }
   ],
   "source": [
    "raw_df.info()"
   ]
  },
  {
   "cell_type": "code",
   "execution_count": 39,
   "id": "2ad7b6bb-6dce-4463-80eb-164a21ef03e0",
   "metadata": {},
   "outputs": [],
   "source": [
    "raw_df[\"year\"] = pd.DatetimeIndex(raw_df['date']).year"
   ]
  },
  {
   "cell_type": "code",
   "execution_count": 40,
   "id": "784216bf-d6b8-4ab8-a883-db5e522a6790",
   "metadata": {},
   "outputs": [
    {
     "data": {
      "text/html": [
       "<div>\n",
       "<style scoped>\n",
       "    .dataframe tbody tr th:only-of-type {\n",
       "        vertical-align: middle;\n",
       "    }\n",
       "\n",
       "    .dataframe tbody tr th {\n",
       "        vertical-align: top;\n",
       "    }\n",
       "\n",
       "    .dataframe thead th {\n",
       "        text-align: right;\n",
       "    }\n",
       "</style>\n",
       "<table border=\"1\" class=\"dataframe\">\n",
       "  <thead>\n",
       "    <tr style=\"text-align: right;\">\n",
       "      <th></th>\n",
       "      <th>date</th>\n",
       "      <th>open</th>\n",
       "      <th>high</th>\n",
       "      <th>low</th>\n",
       "      <th>close</th>\n",
       "      <th>volume</th>\n",
       "      <th>name</th>\n",
       "      <th>year</th>\n",
       "    </tr>\n",
       "  </thead>\n",
       "  <tbody>\n",
       "    <tr>\n",
       "      <th>0</th>\n",
       "      <td>2013-02-08</td>\n",
       "      <td>15.07</td>\n",
       "      <td>15.12</td>\n",
       "      <td>14.63</td>\n",
       "      <td>14.75</td>\n",
       "      <td>8407500</td>\n",
       "      <td>AAL</td>\n",
       "      <td>2013</td>\n",
       "    </tr>\n",
       "    <tr>\n",
       "      <th>1</th>\n",
       "      <td>2013-02-11</td>\n",
       "      <td>14.89</td>\n",
       "      <td>15.01</td>\n",
       "      <td>14.26</td>\n",
       "      <td>14.46</td>\n",
       "      <td>8882000</td>\n",
       "      <td>AAL</td>\n",
       "      <td>2013</td>\n",
       "    </tr>\n",
       "    <tr>\n",
       "      <th>2</th>\n",
       "      <td>2013-02-12</td>\n",
       "      <td>14.45</td>\n",
       "      <td>14.51</td>\n",
       "      <td>14.10</td>\n",
       "      <td>14.27</td>\n",
       "      <td>8126000</td>\n",
       "      <td>AAL</td>\n",
       "      <td>2013</td>\n",
       "    </tr>\n",
       "    <tr>\n",
       "      <th>3</th>\n",
       "      <td>2013-02-13</td>\n",
       "      <td>14.30</td>\n",
       "      <td>14.94</td>\n",
       "      <td>14.25</td>\n",
       "      <td>14.66</td>\n",
       "      <td>10259500</td>\n",
       "      <td>AAL</td>\n",
       "      <td>2013</td>\n",
       "    </tr>\n",
       "    <tr>\n",
       "      <th>4</th>\n",
       "      <td>2013-02-14</td>\n",
       "      <td>14.94</td>\n",
       "      <td>14.96</td>\n",
       "      <td>13.16</td>\n",
       "      <td>13.99</td>\n",
       "      <td>31879900</td>\n",
       "      <td>AAL</td>\n",
       "      <td>2013</td>\n",
       "    </tr>\n",
       "    <tr>\n",
       "      <th>...</th>\n",
       "      <td>...</td>\n",
       "      <td>...</td>\n",
       "      <td>...</td>\n",
       "      <td>...</td>\n",
       "      <td>...</td>\n",
       "      <td>...</td>\n",
       "      <td>...</td>\n",
       "      <td>...</td>\n",
       "    </tr>\n",
       "    <tr>\n",
       "      <th>619035</th>\n",
       "      <td>2018-02-01</td>\n",
       "      <td>76.84</td>\n",
       "      <td>78.27</td>\n",
       "      <td>76.69</td>\n",
       "      <td>77.82</td>\n",
       "      <td>2982259</td>\n",
       "      <td>ZTS</td>\n",
       "      <td>2018</td>\n",
       "    </tr>\n",
       "    <tr>\n",
       "      <th>619036</th>\n",
       "      <td>2018-02-02</td>\n",
       "      <td>77.53</td>\n",
       "      <td>78.12</td>\n",
       "      <td>76.73</td>\n",
       "      <td>76.78</td>\n",
       "      <td>2595187</td>\n",
       "      <td>ZTS</td>\n",
       "      <td>2018</td>\n",
       "    </tr>\n",
       "    <tr>\n",
       "      <th>619037</th>\n",
       "      <td>2018-02-05</td>\n",
       "      <td>76.64</td>\n",
       "      <td>76.92</td>\n",
       "      <td>73.18</td>\n",
       "      <td>73.83</td>\n",
       "      <td>2962031</td>\n",
       "      <td>ZTS</td>\n",
       "      <td>2018</td>\n",
       "    </tr>\n",
       "    <tr>\n",
       "      <th>619038</th>\n",
       "      <td>2018-02-06</td>\n",
       "      <td>72.74</td>\n",
       "      <td>74.56</td>\n",
       "      <td>72.13</td>\n",
       "      <td>73.27</td>\n",
       "      <td>4924323</td>\n",
       "      <td>ZTS</td>\n",
       "      <td>2018</td>\n",
       "    </tr>\n",
       "    <tr>\n",
       "      <th>619039</th>\n",
       "      <td>2018-02-07</td>\n",
       "      <td>72.70</td>\n",
       "      <td>75.00</td>\n",
       "      <td>72.69</td>\n",
       "      <td>73.86</td>\n",
       "      <td>4534912</td>\n",
       "      <td>ZTS</td>\n",
       "      <td>2018</td>\n",
       "    </tr>\n",
       "  </tbody>\n",
       "</table>\n",
       "<p>619040 rows × 8 columns</p>\n",
       "</div>"
      ],
      "text/plain": [
       "              date   open   high    low  close    volume name  year\n",
       "0       2013-02-08  15.07  15.12  14.63  14.75   8407500  AAL  2013\n",
       "1       2013-02-11  14.89  15.01  14.26  14.46   8882000  AAL  2013\n",
       "2       2013-02-12  14.45  14.51  14.10  14.27   8126000  AAL  2013\n",
       "3       2013-02-13  14.30  14.94  14.25  14.66  10259500  AAL  2013\n",
       "4       2013-02-14  14.94  14.96  13.16  13.99  31879900  AAL  2013\n",
       "...            ...    ...    ...    ...    ...       ...  ...   ...\n",
       "619035  2018-02-01  76.84  78.27  76.69  77.82   2982259  ZTS  2018\n",
       "619036  2018-02-02  77.53  78.12  76.73  76.78   2595187  ZTS  2018\n",
       "619037  2018-02-05  76.64  76.92  73.18  73.83   2962031  ZTS  2018\n",
       "619038  2018-02-06  72.74  74.56  72.13  73.27   4924323  ZTS  2018\n",
       "619039  2018-02-07  72.70  75.00  72.69  73.86   4534912  ZTS  2018\n",
       "\n",
       "[619040 rows x 8 columns]"
      ]
     },
     "execution_count": 40,
     "metadata": {},
     "output_type": "execute_result"
    }
   ],
   "source": [
    "raw_df"
   ]
  },
  {
   "cell_type": "markdown",
   "id": "f83fab95-2c62-4edc-bdcd-ae7857a852c1",
   "metadata": {},
   "source": [
    "##### Comme vu en cours on va sauvegarder les données brutes au niveau du stockage objet en appliquant les bonnes pratiques\n",
    "- format\n",
    "- partitionnement\n",
    "- etc"
   ]
  },
  {
   "cell_type": "code",
   "execution_count": 33,
   "id": "1ffe6cc1-18e9-45a9-bf37-99c741c7b71f",
   "metadata": {},
   "outputs": [],
   "source": [
    "#TODO\n",
    "raw_df.to_parquet(\"s3://dataplatform/stock_data_stock_partitioned.parquet\", compression=\"snappy\", partition_cols=\"name\",storage_options=storage_options)"
   ]
  },
  {
   "cell_type": "code",
   "execution_count": 41,
   "id": "0a76a829-41d0-4631-bbdb-fb09b9bc3e85",
   "metadata": {},
   "outputs": [],
   "source": [
    "#TODO\n",
    "raw_df.to_parquet(\"s3://dataplatform/stock_data_year_partitioned.parquet\", compression=\"snappy\", partition_cols=\"year\",storage_options=storage_options)"
   ]
  },
  {
   "cell_type": "markdown",
   "id": "9c601511-4d11-4529-8b68-3c36c4d55c9f",
   "metadata": {},
   "source": [
    "##### On va essayer de lire ces données à niveau depuis le stockage objet."
   ]
  },
  {
   "cell_type": "code",
   "execution_count": 42,
   "id": "7d5adebe-bc65-4455-9b5a-6877fbbacd0e",
   "metadata": {},
   "outputs": [],
   "source": [
    "raw_from_minio = pd.read_parquet(\"s3://dataplatform/stock_data_year_partitioned.parquet\", storage_options=storage_options)"
   ]
  },
  {
   "cell_type": "code",
   "execution_count": 43,
   "id": "351a0608-aa5f-446f-9223-c15b1ee57cac",
   "metadata": {},
   "outputs": [
    {
     "data": {
      "text/html": [
       "<div>\n",
       "<style scoped>\n",
       "    .dataframe tbody tr th:only-of-type {\n",
       "        vertical-align: middle;\n",
       "    }\n",
       "\n",
       "    .dataframe tbody tr th {\n",
       "        vertical-align: top;\n",
       "    }\n",
       "\n",
       "    .dataframe thead th {\n",
       "        text-align: right;\n",
       "    }\n",
       "</style>\n",
       "<table border=\"1\" class=\"dataframe\">\n",
       "  <thead>\n",
       "    <tr style=\"text-align: right;\">\n",
       "      <th></th>\n",
       "      <th>date</th>\n",
       "      <th>open</th>\n",
       "      <th>high</th>\n",
       "      <th>low</th>\n",
       "      <th>close</th>\n",
       "      <th>volume</th>\n",
       "      <th>name</th>\n",
       "      <th>year</th>\n",
       "    </tr>\n",
       "  </thead>\n",
       "  <tbody>\n",
       "    <tr>\n",
       "      <th>0</th>\n",
       "      <td>2013-02-08</td>\n",
       "      <td>15.07</td>\n",
       "      <td>15.12</td>\n",
       "      <td>14.63</td>\n",
       "      <td>14.75</td>\n",
       "      <td>8407500</td>\n",
       "      <td>AAL</td>\n",
       "      <td>2013</td>\n",
       "    </tr>\n",
       "    <tr>\n",
       "      <th>1</th>\n",
       "      <td>2013-02-11</td>\n",
       "      <td>14.89</td>\n",
       "      <td>15.01</td>\n",
       "      <td>14.26</td>\n",
       "      <td>14.46</td>\n",
       "      <td>8882000</td>\n",
       "      <td>AAL</td>\n",
       "      <td>2013</td>\n",
       "    </tr>\n",
       "    <tr>\n",
       "      <th>2</th>\n",
       "      <td>2013-02-12</td>\n",
       "      <td>14.45</td>\n",
       "      <td>14.51</td>\n",
       "      <td>14.10</td>\n",
       "      <td>14.27</td>\n",
       "      <td>8126000</td>\n",
       "      <td>AAL</td>\n",
       "      <td>2013</td>\n",
       "    </tr>\n",
       "    <tr>\n",
       "      <th>3</th>\n",
       "      <td>2013-02-13</td>\n",
       "      <td>14.30</td>\n",
       "      <td>14.94</td>\n",
       "      <td>14.25</td>\n",
       "      <td>14.66</td>\n",
       "      <td>10259500</td>\n",
       "      <td>AAL</td>\n",
       "      <td>2013</td>\n",
       "    </tr>\n",
       "    <tr>\n",
       "      <th>4</th>\n",
       "      <td>2013-02-14</td>\n",
       "      <td>14.94</td>\n",
       "      <td>14.96</td>\n",
       "      <td>13.16</td>\n",
       "      <td>13.99</td>\n",
       "      <td>31879900</td>\n",
       "      <td>AAL</td>\n",
       "      <td>2013</td>\n",
       "    </tr>\n",
       "    <tr>\n",
       "      <th>...</th>\n",
       "      <td>...</td>\n",
       "      <td>...</td>\n",
       "      <td>...</td>\n",
       "      <td>...</td>\n",
       "      <td>...</td>\n",
       "      <td>...</td>\n",
       "      <td>...</td>\n",
       "      <td>...</td>\n",
       "    </tr>\n",
       "    <tr>\n",
       "      <th>619035</th>\n",
       "      <td>2018-02-01</td>\n",
       "      <td>76.84</td>\n",
       "      <td>78.27</td>\n",
       "      <td>76.69</td>\n",
       "      <td>77.82</td>\n",
       "      <td>2982259</td>\n",
       "      <td>ZTS</td>\n",
       "      <td>2018</td>\n",
       "    </tr>\n",
       "    <tr>\n",
       "      <th>619036</th>\n",
       "      <td>2018-02-02</td>\n",
       "      <td>77.53</td>\n",
       "      <td>78.12</td>\n",
       "      <td>76.73</td>\n",
       "      <td>76.78</td>\n",
       "      <td>2595187</td>\n",
       "      <td>ZTS</td>\n",
       "      <td>2018</td>\n",
       "    </tr>\n",
       "    <tr>\n",
       "      <th>619037</th>\n",
       "      <td>2018-02-05</td>\n",
       "      <td>76.64</td>\n",
       "      <td>76.92</td>\n",
       "      <td>73.18</td>\n",
       "      <td>73.83</td>\n",
       "      <td>2962031</td>\n",
       "      <td>ZTS</td>\n",
       "      <td>2018</td>\n",
       "    </tr>\n",
       "    <tr>\n",
       "      <th>619038</th>\n",
       "      <td>2018-02-06</td>\n",
       "      <td>72.74</td>\n",
       "      <td>74.56</td>\n",
       "      <td>72.13</td>\n",
       "      <td>73.27</td>\n",
       "      <td>4924323</td>\n",
       "      <td>ZTS</td>\n",
       "      <td>2018</td>\n",
       "    </tr>\n",
       "    <tr>\n",
       "      <th>619039</th>\n",
       "      <td>2018-02-07</td>\n",
       "      <td>72.70</td>\n",
       "      <td>75.00</td>\n",
       "      <td>72.69</td>\n",
       "      <td>73.86</td>\n",
       "      <td>4534912</td>\n",
       "      <td>ZTS</td>\n",
       "      <td>2018</td>\n",
       "    </tr>\n",
       "  </tbody>\n",
       "</table>\n",
       "<p>619040 rows × 8 columns</p>\n",
       "</div>"
      ],
      "text/plain": [
       "              date   open   high    low  close    volume name  year\n",
       "0       2013-02-08  15.07  15.12  14.63  14.75   8407500  AAL  2013\n",
       "1       2013-02-11  14.89  15.01  14.26  14.46   8882000  AAL  2013\n",
       "2       2013-02-12  14.45  14.51  14.10  14.27   8126000  AAL  2013\n",
       "3       2013-02-13  14.30  14.94  14.25  14.66  10259500  AAL  2013\n",
       "4       2013-02-14  14.94  14.96  13.16  13.99  31879900  AAL  2013\n",
       "...            ...    ...    ...    ...    ...       ...  ...   ...\n",
       "619035  2018-02-01  76.84  78.27  76.69  77.82   2982259  ZTS  2018\n",
       "619036  2018-02-02  77.53  78.12  76.73  76.78   2595187  ZTS  2018\n",
       "619037  2018-02-05  76.64  76.92  73.18  73.83   2962031  ZTS  2018\n",
       "619038  2018-02-06  72.74  74.56  72.13  73.27   4924323  ZTS  2018\n",
       "619039  2018-02-07  72.70  75.00  72.69  73.86   4534912  ZTS  2018\n",
       "\n",
       "[619040 rows x 8 columns]"
      ]
     },
     "execution_count": 43,
     "metadata": {},
     "output_type": "execute_result"
    }
   ],
   "source": [
    "raw_from_minio"
   ]
  },
  {
   "cell_type": "code",
   "execution_count": 49,
   "id": "bee3b6cf-a20f-49d6-9a64-82103df90870",
   "metadata": {},
   "outputs": [],
   "source": [
    "# TO DO\n",
    "stock_agg = raw_from_minio.groupby(\"name\").agg({\"close\": \"mean\"}).reset_index().rename(columns={\"name\": \"stock_name\", \"close\": \"price\"})\n"
   ]
  },
  {
   "cell_type": "code",
   "execution_count": 54,
   "id": "971b15a1-a91b-4c31-9d7a-5e09e9ed81dc",
   "metadata": {},
   "outputs": [],
   "source": [
    "stock_agg_sorted = stock_agg.sort_values(by=\"price\", ascending=False)"
   ]
  },
  {
   "cell_type": "markdown",
   "id": "5e81f981-231e-482e-a65b-bca193a94838",
   "metadata": {},
   "source": [
    "##### Un peu d'analyse\n",
    "- Le prix moyen de chaque action ?\n",
    "- Les actions les plus cheres, les moins cheres ?"
   ]
  },
  {
   "cell_type": "code",
   "execution_count": null,
   "id": "58a8e748-4655-473a-a220-8d420899545e",
   "metadata": {},
   "outputs": [],
   "source": [
    "#TODO\n"
   ]
  },
  {
   "cell_type": "markdown",
   "id": "21c52b52-6094-43af-ba46-851815b84d52",
   "metadata": {},
   "source": [
    "##### On peut sauvegarder ce nouveau dataset aggrégé"
   ]
  },
  {
   "cell_type": "code",
   "execution_count": 57,
   "id": "43be35ec-d396-4b1f-9a6e-b092e7e87a18",
   "metadata": {},
   "outputs": [],
   "source": [
    "#TODO\n",
    "stock_agg_sorted.to_parquet(\"s3://dataplatform/clean_data/stock_data_aggregated.parquet\", compression=\"snappy\",storage_options=storage_options)\n"
   ]
  },
  {
   "cell_type": "code",
   "execution_count": null,
   "id": "db230fbd-cdb0-4b99-816a-03980764c76d",
   "metadata": {},
   "outputs": [],
   "source": []
  }
 ],
 "metadata": {
  "kernelspec": {
   "display_name": "Python 3 (ipykernel)",
   "language": "python",
   "name": "python3"
  },
  "language_info": {
   "codemirror_mode": {
    "name": "ipython",
    "version": 3
   },
   "file_extension": ".py",
   "mimetype": "text/x-python",
   "name": "python",
   "nbconvert_exporter": "python",
   "pygments_lexer": "ipython3",
   "version": "3.13.5"
  }
 },
 "nbformat": 4,
 "nbformat_minor": 5
}
